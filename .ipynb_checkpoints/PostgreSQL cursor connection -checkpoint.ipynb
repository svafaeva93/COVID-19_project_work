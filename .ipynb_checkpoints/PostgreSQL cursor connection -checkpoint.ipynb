{
 "cells": [
  {
   "cell_type": "code",
   "execution_count": 1,
   "id": "ab84d92a",
   "metadata": {},
   "outputs": [
    {
     "name": "stdout",
     "output_type": "stream",
     "text": [
      "Requirement already satisfied: psycopg2 in c:\\users\\panka\\anaconda3\\lib\\site-packages (2.9.6)\n"
     ]
    }
   ],
   "source": [
    "!pip install psycopg2"
   ]
  },
  {
   "cell_type": "code",
   "execution_count": 2,
   "id": "b15ee02b",
   "metadata": {},
   "outputs": [],
   "source": [
    "import csv\n",
    "import psycopg2\n",
    "from psycopg2 import sql\n",
    "from psycopg2.extras import execute_values\n",
    "connection = psycopg2.connect(\n",
    "    host=\"localhost\",\n",
    "    port=\"5432\",\n",
    "    database=\"projectwork\",\n",
    "    user=\"postgres\",\n",
    "    password=\"password\"\n",
    ")"
   ]
  },
  {
   "cell_type": "code",
   "execution_count": 3,
   "id": "e77ca5e2",
   "metadata": {},
   "outputs": [],
   "source": [
    "cursor = connection.cursor()"
   ]
  },
  {
   "cell_type": "code",
   "execution_count": 4,
   "id": "ccdfff4c",
   "metadata": {},
   "outputs": [
    {
     "name": "stdout",
     "output_type": "stream",
     "text": [
      "Data loaded into Covid-19_data successfully!\n"
     ]
    }
   ],
   "source": [
    "csv_file = r'C:\\Users\\panka\\OneDrive\\Desktop\\Project 3\\Covid19_data_Output2.csv'\n",
    "table = 'Covid-19_data'\n",
    "try:\n",
    "    with open(csv_file, 'r') as f:\n",
    "        reader = csv.reader(f)\n",
    "        columns = next(reader)\n",
    "        insert_query = sql.SQL('INSERT INTO {} VALUES %s').format(\n",
    "            sql.Identifier(table)\n",
    "        )\n",
    "        cursor = connection.cursor()\n",
    "        execute_values(cursor, insert_query, [row for row in reader])\n",
    "        connection.commit()\n",
    "        print(f\"Data loaded into {table} successfully!\")\n",
    "except Exception as e:\n",
    "    print(\"Error loading data:\", e)\n",
    "    connection.rollback()\n",
    "finally:\n",
    "    connection.close()"
   ]
  }
 ],
 "metadata": {
  "kernelspec": {
   "display_name": "Python 3 (ipykernel)",
   "language": "python",
   "name": "python3"
  },
  "language_info": {
   "codemirror_mode": {
    "name": "ipython",
    "version": 3
   },
   "file_extension": ".py",
   "mimetype": "text/x-python",
   "name": "python",
   "nbconvert_exporter": "python",
   "pygments_lexer": "ipython3",
   "version": "3.9.16"
  }
 },
 "nbformat": 4,
 "nbformat_minor": 5
}
