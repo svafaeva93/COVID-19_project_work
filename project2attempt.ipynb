{
 "cells": [
  {
   "cell_type": "code",
   "execution_count": 1,
   "id": "a7959c8b",
   "metadata": {},
   "outputs": [],
   "source": [
    "# Dependencies and Setup\n",
    "import requests\n",
    "import time\n",
    "import pandas as pd\n",
    "import numpy as np\n",
    "from pprint import pprint\n",
    "import matplotlib.pyplot as plt\n",
    "import matplotlib as mpl\n",
    "import matplotlib.ticker as ticker\n",
    "import sklearn.datasets as dta\n",
    "import scipy.stats as st\n",
    "from scipy.stats import sem\n",
    "from scipy.stats import linregress\n",
    "import seaborn as sns"
   ]
  },
  {
   "cell_type": "code",
   "execution_count": 2,
   "id": "ae1857f4",
   "metadata": {},
   "outputs": [
    {
     "name": "stdout",
     "output_type": "stream",
     "text": [
      "Beginning Data Retrieval     \n",
      "Data Retrieval Complete      \n"
     ]
    }
   ],
   "source": [
    "# Set the base URL\n",
    "covid_url = 'https://api.opencovid.ca/timeseries'\n",
    "covid_confirmed_cases_response = requests.get(covid_url).json()\n",
    "# Define an empty list to fetch the covid confirmed cases\n",
    "covid_cases_data = []\n",
    "# Print to logger\n",
    "print(\"Beginning Data Retrieval     \")\n",
    "for case in covid_confirmed_cases_response['data']['cases']:\n",
    "    covid_cases_data.append({\"Province\": case['region'], \"Date\" : case['date'], \"Cumulative confirmed cases\": case['value'], \"Confirmed cases per day\": case['value_daily']})            \n",
    "# Indicate that Data Loading is complete \n",
    "print(\"Data Retrieval Complete      \")"
   ]
  },
  {
   "cell_type": "code",
   "execution_count": 3,
   "id": "c3e7fcf4",
   "metadata": {},
   "outputs": [
    {
     "data": {
      "text/html": [
       "<div>\n",
       "<style scoped>\n",
       "    .dataframe tbody tr th:only-of-type {\n",
       "        vertical-align: middle;\n",
       "    }\n",
       "\n",
       "    .dataframe tbody tr th {\n",
       "        vertical-align: top;\n",
       "    }\n",
       "\n",
       "    .dataframe thead th {\n",
       "        text-align: right;\n",
       "    }\n",
       "</style>\n",
       "<table border=\"1\" class=\"dataframe\">\n",
       "  <thead>\n",
       "    <tr style=\"text-align: right;\">\n",
       "      <th></th>\n",
       "      <th>Province</th>\n",
       "      <th>Date</th>\n",
       "      <th>Cumulative confirmed cases</th>\n",
       "      <th>Confirmed cases per day</th>\n",
       "    </tr>\n",
       "  </thead>\n",
       "  <tbody>\n",
       "    <tr>\n",
       "      <th>0</th>\n",
       "      <td>AB</td>\n",
       "      <td>2020-03-05</td>\n",
       "      <td>1</td>\n",
       "      <td>1</td>\n",
       "    </tr>\n",
       "    <tr>\n",
       "      <th>1</th>\n",
       "      <td>AB</td>\n",
       "      <td>2020-03-06</td>\n",
       "      <td>1</td>\n",
       "      <td>0</td>\n",
       "    </tr>\n",
       "    <tr>\n",
       "      <th>2</th>\n",
       "      <td>AB</td>\n",
       "      <td>2020-03-07</td>\n",
       "      <td>2</td>\n",
       "      <td>1</td>\n",
       "    </tr>\n",
       "    <tr>\n",
       "      <th>3</th>\n",
       "      <td>AB</td>\n",
       "      <td>2020-03-08</td>\n",
       "      <td>3</td>\n",
       "      <td>1</td>\n",
       "    </tr>\n",
       "    <tr>\n",
       "      <th>4</th>\n",
       "      <td>AB</td>\n",
       "      <td>2020-03-09</td>\n",
       "      <td>7</td>\n",
       "      <td>4</td>\n",
       "    </tr>\n",
       "    <tr>\n",
       "      <th>...</th>\n",
       "      <td>...</td>\n",
       "      <td>...</td>\n",
       "      <td>...</td>\n",
       "      <td>...</td>\n",
       "    </tr>\n",
       "    <tr>\n",
       "      <th>14390</th>\n",
       "      <td>YT</td>\n",
       "      <td>2022-11-06</td>\n",
       "      <td>5578</td>\n",
       "      <td>5</td>\n",
       "    </tr>\n",
       "    <tr>\n",
       "      <th>14391</th>\n",
       "      <td>YT</td>\n",
       "      <td>2022-11-07</td>\n",
       "      <td>5581</td>\n",
       "      <td>3</td>\n",
       "    </tr>\n",
       "    <tr>\n",
       "      <th>14392</th>\n",
       "      <td>YT</td>\n",
       "      <td>2022-11-08</td>\n",
       "      <td>5582</td>\n",
       "      <td>1</td>\n",
       "    </tr>\n",
       "    <tr>\n",
       "      <th>14393</th>\n",
       "      <td>YT</td>\n",
       "      <td>2022-11-09</td>\n",
       "      <td>5582</td>\n",
       "      <td>0</td>\n",
       "    </tr>\n",
       "    <tr>\n",
       "      <th>14394</th>\n",
       "      <td>YT</td>\n",
       "      <td>2022-11-10</td>\n",
       "      <td>5588</td>\n",
       "      <td>6</td>\n",
       "    </tr>\n",
       "  </tbody>\n",
       "</table>\n",
       "<p>14395 rows × 4 columns</p>\n",
       "</div>"
      ],
      "text/plain": [
       "      Province        Date  Cumulative confirmed cases  \\\n",
       "0           AB  2020-03-05                           1   \n",
       "1           AB  2020-03-06                           1   \n",
       "2           AB  2020-03-07                           2   \n",
       "3           AB  2020-03-08                           3   \n",
       "4           AB  2020-03-09                           7   \n",
       "...        ...         ...                         ...   \n",
       "14390       YT  2022-11-06                        5578   \n",
       "14391       YT  2022-11-07                        5581   \n",
       "14392       YT  2022-11-08                        5582   \n",
       "14393       YT  2022-11-09                        5582   \n",
       "14394       YT  2022-11-10                        5588   \n",
       "\n",
       "       Confirmed cases per day  \n",
       "0                            1  \n",
       "1                            0  \n",
       "2                            1  \n",
       "3                            1  \n",
       "4                            4  \n",
       "...                        ...  \n",
       "14390                        5  \n",
       "14391                        3  \n",
       "14392                        1  \n",
       "14393                        0  \n",
       "14394                        6  \n",
       "\n",
       "[14395 rows x 4 columns]"
      ]
     },
     "execution_count": 3,
     "metadata": {},
     "output_type": "execute_result"
    }
   ],
   "source": [
    "covid_confirmed_cases_data_df = pd.DataFrame(covid_cases_data)\n",
    "# Show Record Count\n",
    "covid_confirmed_cases_data_df"
   ]
  },
  {
   "cell_type": "code",
   "execution_count": 4,
   "id": "04aa1862",
   "metadata": {},
   "outputs": [
    {
     "name": "stdout",
     "output_type": "stream",
     "text": [
      "Beginning Data Retrieval     \n",
      "Data Retrieval Complete      \n"
     ]
    }
   ],
   "source": [
    "# Set the API base URL\n",
    "covid_url = 'https://api.opencovid.ca/timeseries'\n",
    "covid_deaths_response = requests.get(covid_url).json()\n",
    "# Define an empty list to fetch the death data\n",
    "covid_death_data = []\n",
    "# Print to logger\n",
    "print(\"Beginning Data Retrieval     \")\n",
    "for case in covid_deaths_response['data']['deaths']:\n",
    "    covid_death_data.append({\"Province\": case['region'], \"Date\" : case['date'], \"Cumulative death cases\": case['value'], \"Deaths per day\": case['value_daily']})            \n",
    "# Indicate that Data Loading is complete \n",
    "print(\"Data Retrieval Complete      \")"
   ]
  },
  {
   "cell_type": "code",
   "execution_count": 5,
   "id": "e310889a",
   "metadata": {},
   "outputs": [
    {
     "data": {
      "text/html": [
       "<div>\n",
       "<style scoped>\n",
       "    .dataframe tbody tr th:only-of-type {\n",
       "        vertical-align: middle;\n",
       "    }\n",
       "\n",
       "    .dataframe tbody tr th {\n",
       "        vertical-align: top;\n",
       "    }\n",
       "\n",
       "    .dataframe thead th {\n",
       "        text-align: right;\n",
       "    }\n",
       "</style>\n",
       "<table border=\"1\" class=\"dataframe\">\n",
       "  <thead>\n",
       "    <tr style=\"text-align: right;\">\n",
       "      <th></th>\n",
       "      <th>Province</th>\n",
       "      <th>Date</th>\n",
       "      <th>Cumulative death cases</th>\n",
       "      <th>Deaths per day</th>\n",
       "    </tr>\n",
       "  </thead>\n",
       "  <tbody>\n",
       "    <tr>\n",
       "      <th>0</th>\n",
       "      <td>AB</td>\n",
       "      <td>2020-03-08</td>\n",
       "      <td>0</td>\n",
       "      <td>0</td>\n",
       "    </tr>\n",
       "    <tr>\n",
       "      <th>1</th>\n",
       "      <td>AB</td>\n",
       "      <td>2020-03-09</td>\n",
       "      <td>0</td>\n",
       "      <td>0</td>\n",
       "    </tr>\n",
       "    <tr>\n",
       "      <th>2</th>\n",
       "      <td>AB</td>\n",
       "      <td>2020-03-10</td>\n",
       "      <td>0</td>\n",
       "      <td>0</td>\n",
       "    </tr>\n",
       "    <tr>\n",
       "      <th>3</th>\n",
       "      <td>AB</td>\n",
       "      <td>2020-03-11</td>\n",
       "      <td>0</td>\n",
       "      <td>0</td>\n",
       "    </tr>\n",
       "    <tr>\n",
       "      <th>4</th>\n",
       "      <td>AB</td>\n",
       "      <td>2020-03-12</td>\n",
       "      <td>0</td>\n",
       "      <td>0</td>\n",
       "    </tr>\n",
       "    <tr>\n",
       "      <th>...</th>\n",
       "      <td>...</td>\n",
       "      <td>...</td>\n",
       "      <td>...</td>\n",
       "      <td>...</td>\n",
       "    </tr>\n",
       "    <tr>\n",
       "      <th>14292</th>\n",
       "      <td>YT</td>\n",
       "      <td>2022-11-01</td>\n",
       "      <td>32</td>\n",
       "      <td>0</td>\n",
       "    </tr>\n",
       "    <tr>\n",
       "      <th>14293</th>\n",
       "      <td>YT</td>\n",
       "      <td>2022-11-02</td>\n",
       "      <td>32</td>\n",
       "      <td>0</td>\n",
       "    </tr>\n",
       "    <tr>\n",
       "      <th>14294</th>\n",
       "      <td>YT</td>\n",
       "      <td>2022-11-03</td>\n",
       "      <td>32</td>\n",
       "      <td>0</td>\n",
       "    </tr>\n",
       "    <tr>\n",
       "      <th>14295</th>\n",
       "      <td>YT</td>\n",
       "      <td>2022-11-04</td>\n",
       "      <td>32</td>\n",
       "      <td>0</td>\n",
       "    </tr>\n",
       "    <tr>\n",
       "      <th>14296</th>\n",
       "      <td>YT</td>\n",
       "      <td>2022-11-05</td>\n",
       "      <td>32</td>\n",
       "      <td>0</td>\n",
       "    </tr>\n",
       "  </tbody>\n",
       "</table>\n",
       "<p>14297 rows × 4 columns</p>\n",
       "</div>"
      ],
      "text/plain": [
       "      Province        Date  Cumulative death cases  Deaths per day\n",
       "0           AB  2020-03-08                       0               0\n",
       "1           AB  2020-03-09                       0               0\n",
       "2           AB  2020-03-10                       0               0\n",
       "3           AB  2020-03-11                       0               0\n",
       "4           AB  2020-03-12                       0               0\n",
       "...        ...         ...                     ...             ...\n",
       "14292       YT  2022-11-01                      32               0\n",
       "14293       YT  2022-11-02                      32               0\n",
       "14294       YT  2022-11-03                      32               0\n",
       "14295       YT  2022-11-04                      32               0\n",
       "14296       YT  2022-11-05                      32               0\n",
       "\n",
       "[14297 rows x 4 columns]"
      ]
     },
     "execution_count": 5,
     "metadata": {},
     "output_type": "execute_result"
    }
   ],
   "source": [
    "death_data_df = pd.DataFrame(covid_death_data)\n",
    "death_data_df"
   ]
  },
  {
   "cell_type": "code",
   "execution_count": null,
   "id": "8e83e587",
   "metadata": {},
   "outputs": [],
   "source": [
    "# Set the API base URL\n",
    "covid_url = 'https://api.opencovid.ca/timeseries'\n",
    "covid_hospitalization_response = requests.get(covid_url).json()\n",
    "# Define an empty list to fetch the death data\n",
    "hospitalization_data = []\n",
    "# Print to logger\n",
    "print(\"Beginning Data Retrieval     \")\n",
    "for case in covid_hospitalization_response['data']['hospitalizations']:\n",
    "    hospitalization_data.append({\"Province\": case['region'], \"Date\" : case['date'], \"Cumulative hospitalizations cases\": case['value'], \"hospitalizations per day\": case['value_daily']})            \n",
    "# Indicate that Data Loading is complete \n",
    "print(\"Data Retrieval Complete      \")"
   ]
  },
  {
   "cell_type": "code",
   "execution_count": null,
   "id": "cbbc31b6",
   "metadata": {},
   "outputs": [],
   "source": [
    "hospitalization_data_df = pd.DataFrame(hospitalization_data)\n",
    "hospitalization_data_df"
   ]
  },
  {
   "cell_type": "code",
   "execution_count": null,
   "id": "4b5b9330",
   "metadata": {},
   "outputs": [],
   "source": [
    "# Set the base URL\n",
    "covid_url = 'https://api.opencovid.ca/timeseries'\n",
    "covid_vaccinationdose1_coverage_response = requests.get(covid_url).json()\n",
    "# Define an empty list to fetch the covid confirmed cases\n",
    "covid_vaccinationdose1_coverage_data = []\n",
    "# Print to logger\n",
    "print(\"Beginning Data Retrieval     \")\n",
    "for case in covid_vaccinationdose1_coverage_response['data']['vaccine_coverage_dose_1']:\n",
    "    covid_vaccinationdose1_coverage_data.append({\"Province\": case['region'], \"Date\" : case['date'], \"Cumulative vaccine coverage dose1\": case['value'], \"Vaccine coverage dose1 per day\": case['value_daily']})            \n",
    "# Indicate that Data Loading is complete \n",
    "print(\"Data Retrieval Complete      \")"
   ]
  },
  {
   "cell_type": "code",
   "execution_count": null,
   "id": "fec033e5",
   "metadata": {
    "scrolled": true
   },
   "outputs": [],
   "source": [
    "covid_vaccinationdose1_coverage_data_df = pd.DataFrame(covid_vaccinationdose1_coverage_data)\n",
    "# Show Record Count\n",
    "covid_vaccinationdose1_coverage_data_df"
   ]
  },
  {
   "cell_type": "code",
   "execution_count": null,
   "id": "1d88a74c",
   "metadata": {},
   "outputs": [],
   "source": [
    "# Mering the three DataFrames named as covid_confirmed_cases_data_df, death_data_df and hospitalization_data_df on columns Province and Date as they are common columns in all of the dataframes\n",
    "# covid_combined_df = pd.merge(covid_confirmed_cases_data_df, pd.merge(death_data_df, hospitalization_data_df, on=['Province', 'Date']), on=['Province', 'Date'])\n",
    "# covid_combined_df\n",
    "covid_combined_df = covid_confirmed_cases_data_df.merge(death_data_df, on=['Province', 'Date']).merge(hospitalization_data_df, on=['Province', 'Date']).merge(covid_vaccinationdose1_coverage_data_df, on=['Province', 'Date'])\n",
    "covid_combined_df.describe()"
   ]
  },
  {
   "cell_type": "code",
   "execution_count": null,
   "id": "1a76906e",
   "metadata": {},
   "outputs": [],
   "source": [
    "covid_combined_final_df = covid_combined_df[(covid_combined_df['Cumulative confirmed cases'] >= 0) & (covid_combined_df['Confirmed cases per day'] >= 0) & (covid_combined_df['Cumulative death cases'] >= 0) & (covid_combined_df['Deaths per day'] >= 0) & (covid_combined_df['Cumulative hospitalizations cases'] >= 0)& (covid_combined_df['hospitalizations per day'] >= 0)& (covid_combined_df['Cumulative vaccine coverage dose1'] >= 0) & (covid_combined_df['Vaccine coverage dose1 per day'] >= 0)]\n",
    "covid_combined_final_df = covid_combined_final_df.dropna()\n",
    "covid_combined_final_df.describe()"
   ]
  },
  {
   "cell_type": "code",
   "execution_count": null,
   "id": "a6fad707",
   "metadata": {},
   "outputs": [],
   "source": [
    "covid_combined_final_df['Mortality rate'] = round(((covid_combined_final_df['Cumulative death cases'] / covid_combined_final_df['Cumulative confirmed cases']) * 100), 3)\n",
    "covid_combined_final_df['Daily mortality rate'] = round(((covid_combined_final_df['Deaths per day'] / covid_combined_final_df['Confirmed cases per day']) * 100), 3)\n",
    "covid_combined_final_df.describe()"
   ]
  },
  {
   "cell_type": "code",
   "execution_count": null,
   "id": "6f02b183",
   "metadata": {},
   "outputs": [],
   "source": [
    "# sort the DataFrame by date in ascending order as covid_combined_final_sorted\n",
    "covid_combined_final_df['Date'] = pd.to_datetime(covid_combined_final_df['Date'])\n",
    "covid_combined_final_sorted = covid_combined_final_df.sort_values(by='Date')"
   ]
  },
  {
   "cell_type": "code",
   "execution_count": null,
   "id": "9f774dcb",
   "metadata": {},
   "outputs": [],
   "source": [
    "# fill missing values with zero\n",
    "covid_combined_final_sorted_filled = covid_combined_final_sorted.fillna(value=0)\n",
    "# remove inf and replace with zero in column 'A'\n",
    "covid_combined_final_sorted_filled['Daily mortality rate'] = covid_combined_final_sorted_filled['Daily mortality rate'].replace([np.inf, -np.inf], 0)"
   ]
  },
  {
   "cell_type": "code",
   "execution_count": null,
   "id": "2c7540e2",
   "metadata": {},
   "outputs": [],
   "source": [
    "covid_combined_final_sorted_filled.head()"
   ]
  },
  {
   "cell_type": "code",
   "execution_count": null,
   "id": "a00b00e5",
   "metadata": {},
   "outputs": [],
   "source": [
    "covid_combined_final_sorted_filled.to_csv(\"Covid19_data_project.csv\", index=False)"
   ]
  },
  {
   "cell_type": "code",
   "execution_count": null,
   "id": "322af8a2",
   "metadata": {},
   "outputs": [],
   "source": [
    "covid_dataframe_df = covid_combined_final_sorted_filled\n",
    "covid_dataframe_df.head(5)"
   ]
  },
  {
   "cell_type": "code",
   "execution_count": null,
   "id": "b02e2a82",
   "metadata": {},
   "outputs": [],
   "source": [
    "# Assumptions made recovered data/Cured data was not available in the API so we assumed to use the cumulative hospitalizations cases to calculate the cumulative active cases\n",
    "covid_dataframe_df['Cumulative Active Cases'] = covid_dataframe_df['Cumulative confirmed cases'] - (covid_dataframe_df['Cumulative death cases'] + covid_dataframe_df['Cumulative hospitalizations cases'])\n",
    "covid_dataframe_df['Active Cases per day'] = covid_dataframe_df['Confirmed cases per day'] - (covid_dataframe_df['Deaths per day'] + covid_dataframe_df['hospitalizations per day'])\n",
    "covid_dataframe_df.sample(5)"
   ]
  },
  {
   "cell_type": "code",
   "execution_count": null,
   "id": "34e85caf",
   "metadata": {},
   "outputs": [],
   "source": [
    "Active_cases_per_province = covid_dataframe_df.groupby('Province').max()[['Cumulative Active Cases', 'Date']].sort_values(['Cumulative Active Cases'], ascending = False).reset_index()\n",
    "# Active_cases_per_province = Active_cases_per_province.iloc[0:5]\n",
    "Active_cases_per_province_df = Active_cases_per_province[['Province', 'Cumulative Active Cases']]\n",
    "Active_cases_per_province_df = Active_cases_per_province_df.set_index('Province')\n",
    "Active_cases_per_province_df.head(13)"
   ]
  },
  {
   "cell_type": "code",
   "execution_count": null,
   "id": "2c534af5",
   "metadata": {},
   "outputs": [],
   "source": []
  }
 ],
 "metadata": {
  "kernelspec": {
   "display_name": "Python 3 (ipykernel)",
   "language": "python",
   "name": "python3"
  },
  "language_info": {
   "codemirror_mode": {
    "name": "ipython",
    "version": 3
   },
   "file_extension": ".py",
   "mimetype": "text/x-python",
   "name": "python",
   "nbconvert_exporter": "python",
   "pygments_lexer": "ipython3",
   "version": "3.9.16"
  }
 },
 "nbformat": 4,
 "nbformat_minor": 5
}
